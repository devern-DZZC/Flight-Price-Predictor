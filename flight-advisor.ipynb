{
 "cells": [
  {
   "cell_type": "code",
   "execution_count": 21,
   "id": "9416f57a-dc41-4f32-99c9-e276f5c56ceb",
   "metadata": {},
   "outputs": [],
   "source": [
    "import polars as pl\n",
    "import pandas as pd\n",
    "import pyarrow\n",
    "import cupy as cp\n",
    "import networkx as nx\n",
    "import matplotlib.pyplot as plt\n",
    "import seaborn as sns\n",
    "\n",
    "from sklearn.preprocessing import OneHotEncoder\n",
    "from sklearn.compose import ColumnTransformer\n",
    "from sklearn.model_selection import train_test_split, RandomizedSearchCV, GridSearchCV\n",
    "from sklearn.metrics import mean_squared_error, mean_absolute_error, r2_score, mean_squared_log_error\n",
    "\n",
    "from sklearn.ensemble import RandomForestRegressor, GradientBoostingRegressor\n",
    "from sklearn.linear_model import LinearRegression\n",
    "\n",
    "from xgboost import XGBRegressor\n",
    "from lightgbm import LGBMRegressor"
   ]
  },
  {
   "cell_type": "markdown",
   "id": "37cd0d77-27fc-4df0-90c8-4e258a50b10e",
   "metadata": {},
   "source": [
    "## Data Exploration"
   ]
  },
  {
   "cell_type": "code",
   "execution_count": 2,
   "id": "9cc5ab16-4c1c-4585-b239-2fb47a39c63b",
   "metadata": {},
   "outputs": [],
   "source": [
    "df = pl.read_csv('flights2018.csv')"
   ]
  },
  {
   "cell_type": "code",
   "execution_count": 6,
   "id": "eda840c6-bf70-44ab-955a-e80a5b11324c",
   "metadata": {},
   "outputs": [
    {
     "data": {
      "text/html": [
       "<div><style>\n",
       ".dataframe > thead > tr,\n",
       ".dataframe > tbody > tr {\n",
       "  text-align: right;\n",
       "  white-space: pre-wrap;\n",
       "}\n",
       "</style>\n",
       "<small>shape: (5, 14)</small><table border=\"1\" class=\"dataframe\"><thead><tr><th></th><th>ItinID</th><th>MktID</th><th>MktCoupons</th><th>Quarter</th><th>Origin</th><th>OriginWac</th><th>Dest</th><th>DestWac</th><th>Miles</th><th>ContiguousUSA</th><th>NumTicketsOrdered</th><th>AirlineCompany</th><th>PricePerTicket</th></tr><tr><td>i64</td><td>i64</td><td>i64</td><td>i64</td><td>i64</td><td>str</td><td>i64</td><td>str</td><td>i64</td><td>f64</td><td>i64</td><td>f64</td><td>str</td><td>f64</td></tr></thead><tbody><tr><td>0</td><td>20181767585</td><td>2018176758501</td><td>1</td><td>1</td><td>&quot;PHL&quot;</td><td>23</td><td>&quot;LAX&quot;</td><td>91</td><td>2402.0</td><td>2</td><td>1.0</td><td>&quot;AA&quot;</td><td>672.87</td></tr><tr><td>1</td><td>20181767586</td><td>2018176758601</td><td>1</td><td>1</td><td>&quot;PHL&quot;</td><td>23</td><td>&quot;LAX&quot;</td><td>91</td><td>2402.0</td><td>2</td><td>1.0</td><td>&quot;AA&quot;</td><td>367.68</td></tr><tr><td>2</td><td>20181767587</td><td>2018176758701</td><td>1</td><td>1</td><td>&quot;PHL&quot;</td><td>23</td><td>&quot;LAX&quot;</td><td>91</td><td>2402.0</td><td>2</td><td>1.0</td><td>&quot;AA&quot;</td><td>417.94</td></tr><tr><td>3</td><td>20181767636</td><td>2018176763601</td><td>1</td><td>1</td><td>&quot;PHL&quot;</td><td>23</td><td>&quot;LAX&quot;</td><td>91</td><td>2402.0</td><td>2</td><td>1.0</td><td>&quot;AA&quot;</td><td>247.1</td></tr><tr><td>4</td><td>20181767637</td><td>2018176763701</td><td>1</td><td>1</td><td>&quot;PHL&quot;</td><td>23</td><td>&quot;LAX&quot;</td><td>91</td><td>2402.0</td><td>2</td><td>1.0</td><td>&quot;AA&quot;</td><td>276.35</td></tr></tbody></table></div>"
      ],
      "text/plain": [
       "shape: (5, 14)\n",
       "┌─────┬─────────────┬───────────────┬────────────┬───┬───────────────┬───────────────────┬────────────────┬────────────────┐\n",
       "│     ┆ ItinID      ┆ MktID         ┆ MktCoupons ┆ … ┆ ContiguousUSA ┆ NumTicketsOrdered ┆ AirlineCompany ┆ PricePerTicket │\n",
       "│ --- ┆ ---         ┆ ---           ┆ ---        ┆   ┆ ---           ┆ ---               ┆ ---            ┆ ---            │\n",
       "│ i64 ┆ i64         ┆ i64           ┆ i64        ┆   ┆ i64           ┆ f64               ┆ str            ┆ f64            │\n",
       "╞═════╪═════════════╪═══════════════╪════════════╪═══╪═══════════════╪═══════════════════╪════════════════╪════════════════╡\n",
       "│ 0   ┆ 20181767585 ┆ 2018176758501 ┆ 1          ┆ … ┆ 2             ┆ 1.0               ┆ AA             ┆ 672.87         │\n",
       "│ 1   ┆ 20181767586 ┆ 2018176758601 ┆ 1          ┆ … ┆ 2             ┆ 1.0               ┆ AA             ┆ 367.68         │\n",
       "│ 2   ┆ 20181767587 ┆ 2018176758701 ┆ 1          ┆ … ┆ 2             ┆ 1.0               ┆ AA             ┆ 417.94         │\n",
       "│ 3   ┆ 20181767636 ┆ 2018176763601 ┆ 1          ┆ … ┆ 2             ┆ 1.0               ┆ AA             ┆ 247.1          │\n",
       "│ 4   ┆ 20181767637 ┆ 2018176763701 ┆ 1          ┆ … ┆ 2             ┆ 1.0               ┆ AA             ┆ 276.35         │\n",
       "└─────┴─────────────┴───────────────┴────────────┴───┴───────────────┴───────────────────┴────────────────┴────────────────┘"
      ]
     },
     "execution_count": 6,
     "metadata": {},
     "output_type": "execute_result"
    }
   ],
   "source": [
    "df.head()"
   ]
  },
  {
   "cell_type": "code",
   "execution_count": 4,
   "id": "6e7edcac-2785-42c7-8a64-e036fcf8cb2e",
   "metadata": {},
   "outputs": [
    {
     "data": {
      "text/plain": [
       "[Int64,\n",
       " Int64,\n",
       " Int64,\n",
       " Int64,\n",
       " Int64,\n",
       " String,\n",
       " Int64,\n",
       " String,\n",
       " Int64,\n",
       " Float64,\n",
       " Int64,\n",
       " Float64,\n",
       " String,\n",
       " Float64]"
      ]
     },
     "execution_count": 4,
     "metadata": {},
     "output_type": "execute_result"
    }
   ],
   "source": [
    "df.dtypes"
   ]
  },
  {
   "cell_type": "code",
   "execution_count": 9,
   "id": "7f92dd92-7440-4551-9dd6-c32a3e581a5c",
   "metadata": {},
   "outputs": [
    {
     "name": "stdout",
     "output_type": "stream",
     "text": [
      "Number of rows:  9534417\n"
     ]
    }
   ],
   "source": [
    "rows = len(df)\n",
    "print('Number of rows: ', rows)"
   ]
  },
  {
   "cell_type": "code",
   "execution_count": 6,
   "id": "fcc00017-08e0-4d2e-9966-884528dfbca5",
   "metadata": {},
   "outputs": [
    {
     "name": "stdout",
     "output_type": "stream",
     "text": [
      "shape: (1, 14)\n",
      "┌─────┬────────┬───────┬────────────┬───┬───────────────┬───────────────────┬────────────────┬────────────────┐\n",
      "│     ┆ ItinID ┆ MktID ┆ MktCoupons ┆ … ┆ ContiguousUSA ┆ NumTicketsOrdered ┆ AirlineCompany ┆ PricePerTicket │\n",
      "│ --- ┆ ---    ┆ ---   ┆ ---        ┆   ┆ ---           ┆ ---               ┆ ---            ┆ ---            │\n",
      "│ u32 ┆ u32    ┆ u32   ┆ u32        ┆   ┆ u32           ┆ u32               ┆ u32            ┆ u32            │\n",
      "╞═════╪════════╪═══════╪════════════╪═══╪═══════════════╪═══════════════════╪════════════════╪════════════════╡\n",
      "│ 0   ┆ 0      ┆ 0     ┆ 0          ┆ … ┆ 0             ┆ 0                 ┆ 0              ┆ 0              │\n",
      "└─────┴────────┴───────┴────────────┴───┴───────────────┴───────────────────┴────────────────┴────────────────┘\n"
     ]
    }
   ],
   "source": [
    "print(df.null_count())"
   ]
  },
  {
   "cell_type": "code",
   "execution_count": 14,
   "id": "99210e9a-d07c-4654-b494-70029c8f3703",
   "metadata": {},
   "outputs": [
    {
     "name": "stdout",
     "output_type": "stream",
     "text": [
      "['B6', 'G4', 'F9', 'VX', 'SY', 'HA', 'AA', 'NK', 'UA', 'DL', 'WN', 'AS']\n"
     ]
    }
   ],
   "source": [
    "unique_carriers = df.select(pl.col(\"AirlineCompany\").unique()).to_series().to_list()\n",
    "print(unique_carriers)"
   ]
  },
  {
   "cell_type": "code",
   "execution_count": 50,
   "id": "46f9ea83-e75c-4c62-b974-515c9251c056",
   "metadata": {},
   "outputs": [],
   "source": [
    "airline_map = {\n",
    "    'DL': 'Delta Air Lines',\n",
    "    'YV': 'Mesa Airlines',\n",
    "    'MQ': 'Envoy Air',\n",
    "    'YX': 'Republic Airways',\n",
    "    'SY': 'Sun Country Airlines',\n",
    "    'OH': 'PSA Airlines',\n",
    "    'PT': 'Piedmont Airlines',\n",
    "    '3M': 'Silver Airways',\n",
    "    'AA': 'American Airlines',\n",
    "    'QX': 'Horizon Air',\n",
    "    'G7': 'GoJet Airlines',\n",
    "    'MX': 'Breeze Airways (or legacy Mexicana)',\n",
    "    'B6': 'JetBlue Airways',\n",
    "    'OO': 'SkyWest Airlines',\n",
    "    'XP': 'Avelo Airlines (or former Xtra Airways)',\n",
    "    'ZW': 'Air Wisconsin',\n",
    "    'UA': 'United Airlines',\n",
    "    'HA': 'Hawaiian Airlines',\n",
    "    'F9': 'Frontier Airlines',\n",
    "    'AS': 'Alaska Airlines',\n",
    "    'G4': 'Allegiant Air',\n",
    "    'C5': 'CommutAir',\n",
    "    'NK': 'Spirit Airlines',\n",
    "    'WN': 'Southwest Airlines',\n",
    "    '9E': 'Endeavor Air'\n",
    "}"
   ]
  },
  {
   "cell_type": "code",
   "execution_count": 64,
   "id": "96259241-3330-4795-be45-d52765e38d4e",
   "metadata": {},
   "outputs": [
    {
     "name": "stdout",
     "output_type": "stream",
     "text": [
      "^C\n"
     ]
    }
   ],
   "source": [
    "!pip uninstall pandas"
   ]
  },
  {
   "cell_type": "code",
   "execution_count": 15,
   "id": "5e6d9671-b087-45d2-9b46-f4659fe71f06",
   "metadata": {},
   "outputs": [
    {
     "name": "stdout",
     "output_type": "stream",
     "text": [
      "['RST', 'MKG', 'MDT', 'DAB', 'PGD', 'BIL', 'OGS', 'SRQ', 'ACK', 'STC', 'CRW', 'MYR', 'MIA', 'PHX', 'MSY', 'AKN', 'CVG', 'HNL', 'JNU', 'RDM', 'LGB', 'BWI', 'ORH', 'ELM', 'IAG', 'SYR', 'HGR', 'COS', 'GFK', 'CLT', 'DSM', 'GST', 'BHM', 'STX', 'FAI', 'ICT', 'IND', 'SFB', 'YNG', 'HRL', 'ROC', 'SHV', 'TLH', 'GRB', 'MOB', 'GSO', 'OKC', 'OMA', 'IAH', 'CID', 'LIT', 'DTW', 'CDV', 'YAK', 'FCA', 'ELP', 'MKK', 'LIH', 'PBI', 'SCE', 'GNV', 'EVV', 'FAY', 'RDU', 'ORD', 'LBB', 'TOL', 'SPI', 'BDL', 'BTR', 'MRY', 'BLI', 'LAX', 'SPS', 'PNS', 'OTZ', 'ALB', 'PSP', 'SPN', 'OWB', 'ACY', 'ONT', 'LRD', 'GUM', 'USA', 'KTN', 'SLN', 'MCO', 'GJT', 'SCC', 'FWA', 'HSV', 'COU', 'SFO', 'PWM', 'ITO', 'MSN', 'SJC', 'BOS', 'MLI', 'HYA', 'ADK', 'SJU', 'ORF', 'OGG', 'TYS', 'MSO', 'TTN', 'GTF', 'CAE', 'GPT', 'ABI', 'BZN', 'BFL', 'JAC', 'RIC', 'SNA', 'ERI', 'MCI', 'PSG', 'LFT', 'RKS', 'MFR', 'PSC', 'OGD', 'PDX', 'JHM', 'BLV', 'HDN', 'AVL', 'SBA', 'GSP', 'JAX', 'PIT', 'VPS', 'PBG', 'SCK', 'MOT', 'PSE', 'BQN', 'BMI', 'RFD', 'SGU', 'SGF', 'SLC', 'SWF', 'BOI', 'AVP', 'DFW', 'SMX', 'ROA', 'SMF', 'EWR', 'GEG', 'DAL', 'TUS', 'BUF', 'IAD', 'CAK', 'AZA', 'CHS', 'SAN', 'MKE', 'LEX', 'FNT', 'ISP', 'WRG', 'LGA', 'ECP', 'CMH', 'BGR', 'OME', 'SBN', 'CPR', 'CHO', 'FAT', 'GRI', 'MFE', 'STL', 'AMA', 'PVD', 'HTS', 'LBE', 'FAR', 'KOA', 'MHT', 'FSD', 'SAT', 'XNA', 'PVU', 'ABE', 'BKG', 'ABQ', 'MAF', 'CHA', 'TVC', 'ATW', 'ANC', 'BRW', 'RSW', 'STT', 'SIT', 'GUC', 'MEM', 'TUL', 'TPA', 'PHF', 'DEN', 'SAF', 'MTJ', 'ILM', 'HOU', 'LAS', 'HPN', 'MLB', 'PIA', 'CKB', 'SAV', 'IDA', 'FLG', 'STS', 'SEA', 'MVY', 'RAP', 'ASE', 'RNO', 'GRR', 'PSM', 'EGE', 'JFK', 'SDF', 'ADQ', 'OAK', 'PRC', 'LAN', 'FLL', 'DCA', 'BUR', 'AUS', 'MDW', 'CLE', 'BTV', 'LCK', 'EUG', 'EYW', 'MMH', 'PIE', 'CRP', 'JAN', 'AGS', 'SHD', 'PHL', 'DAY', 'BNA', 'LNK', 'BET', 'MSP', 'BIS', 'TRI', 'DLG', 'ATL', 'PPG', 'DLH']\n"
     ]
    }
   ],
   "source": [
    "origins = df.select(pl.col(\"Origin\").unique()).to_series().to_list()\n",
    "print(origins)"
   ]
  },
  {
   "cell_type": "code",
   "execution_count": 16,
   "id": "e26ff1b9-8131-4c1a-89ea-f77f49a78a5a",
   "metadata": {},
   "outputs": [
    {
     "name": "stdout",
     "output_type": "stream",
     "text": [
      "['SRQ', 'DFW', 'SJU', 'TTN', 'VPS', 'RDM', 'DCA', 'ECP', 'OME', 'MLB', 'KTN', 'OWB', 'KOA', 'BHM', 'EWR', 'ICT', 'MTJ', 'EGE', 'LRD', 'FCA', 'BMI', 'ACY', 'SFB', 'PIT', 'DLG', 'SCK', 'TRI', 'RFD', 'LEX', 'IND', 'OAK', 'ACK', 'SCC', 'FSD', 'PGD', 'AVP', 'SJC', 'YAK', 'ILM', 'RDU', 'GST', 'ITH', 'JNU', 'LIH', 'JAX', 'OKC', 'CAE', 'ORH', 'EVV', 'PWM', 'LIT', 'FAI', 'GTF', 'GUC', 'SWF', 'MHT', 'CHA', 'MSY', 'WRG', 'ISP', 'SHV', 'DAY', 'CRP', 'BQN', 'SAV', 'BWI', 'HNL', 'FAY', 'SPN', 'STS', 'SMF', 'PHL', 'PSG', 'ATL', 'EYW', 'PSP', 'ELP', 'STX', 'MFR', 'STC', 'PNS', 'GPT', 'BTR', 'ANC', 'RNO', 'IDA', 'FAR', 'CDV', 'TOL', 'FAT', 'USA', 'YNG', 'MKG', 'STL', 'CPR', 'IAH', 'CLT', 'BOS', 'SLC', 'PHX', 'PDX', 'BDL', 'MBS', 'PVU', 'GFK', 'BNA', 'MSP', 'LGB', 'GSO', 'ONT', 'PIA', 'MSN', 'MEM', 'LAX', 'ORF', 'TUS', 'SGF', 'DEN', 'SBP', 'RSW', 'MMH', 'TPA', 'LBE', 'DLH', 'GUM', 'IAG', 'BUF', 'HTS', 'SAT', 'CRW', 'BIS', 'AUS', 'BRW', 'SCE', 'RST', 'JAN', 'BKG', 'OTH', 'BOI', 'SNA', 'PPG', 'GSP', 'MCI', 'AZA', 'MFE', 'HYA', 'LAN', 'CLE', 'LCK', 'BUR', 'TVC', 'LGA', 'CHO', 'BRO', 'HPN', 'BFL', 'GNV', 'BTV', 'CAK', 'ASE', 'ABE', 'PSM', 'HRL', 'BLV', 'AMA', 'CVG', 'MKE', 'PSC', 'CHS', 'BLI', 'ITO', 'STT', 'MOT', 'DRO', 'EUG', 'CKB', 'DAL', 'DAB', 'OGS', 'COS', 'ALB', 'ADK', 'CID', 'MDW', 'PVD', 'JAC', 'PBG', 'RAP', 'TLH', 'SAN', 'SEA', 'MRY', 'MYR', 'HDN', 'BZN', 'ATW', 'BIL', 'SBN', 'LNK', 'LAS', 'MCO', 'ADQ', 'ELM', 'LFT', 'SPI', 'DSM', 'OTZ', 'SBA', 'ABQ', 'MAF', 'ORD', 'LBB', 'AVL', 'TYS', 'BET', 'JFK', 'HOU', 'GRI', 'HSV', 'MSO', 'PSE', 'TUL', 'GJT', 'SMX', 'HGR', 'MLI', 'AKN', 'AGS', 'CMH', 'SFO', 'LWB', 'MVY', 'SIT', 'OGD', 'RIC', 'OGG', 'FNT', 'GRB', 'MIA', 'DTW', 'FWA', 'FLL', 'GRR', 'PBI', 'XNA', 'ERI', 'ROC', 'MOB', 'SYR', 'SAF', 'MDT', 'IAD', 'ROA', 'GEG', 'BGR', 'SGU', 'SDF', 'PIE', 'OMA', 'PHF']\n"
     ]
    }
   ],
   "source": [
    "dests = df.select(pl.col(\"Dest\").unique()).to_series().to_list()\n",
    "print(dests)"
   ]
  },
  {
   "cell_type": "code",
   "execution_count": 12,
   "id": "88b58333-23e3-4c4f-8b3a-4a4e03000759",
   "metadata": {},
   "outputs": [],
   "source": [
    "num_df = df.select([col for col in df.columns if df[col].dtype in [pl.Float64, pl.Int64]])\n",
    "\n",
    "# Convert to NumPy then to CuPy\n",
    "np_data = num_df.to_numpy()\n",
    "cp_data = cp.asarray(np_data)\n",
    "\n",
    "# Normalize the data\n",
    "cp_data = (cp_data - cp.mean(cp_data, axis=0)) / cp.std(cp_data, axis=0)\n",
    "\n",
    "# Compute correlation matrix on GPU\n",
    "corr_matrix = cp.corrcoef(cp_data, rowvar=False)\n",
    "corr_matrix = cp.asnumpy(corr_matrix)  # Move back to CPU for plotting"
   ]
  },
  {
   "cell_type": "code",
   "execution_count": 14,
   "id": "0538ba46-cb33-46e8-b94a-a7381946587e",
   "metadata": {},
   "outputs": [
    {
     "data": {
      "image/png": "[encoded data removed]",
      "text/plain": [
       "<Figure size 1500x1000 with 2 Axes>"
      ]
     },
     "metadata": {},
     "output_type": "display_data"
    }
   ],
   "source": [
    "plt.figure(figsize=(15, 10))\n",
    "sns.heatmap(corr_matrix, \n",
    "            xticklabels=num_df.columns, \n",
    "            yticklabels=num_df.columns,\n",
    "            cmap=\"YlGnBu\", \n",
    "            annot=False,\n",
    "            linewidths=0.5)\n",
    "plt.title(\"Correlation Matrix\")\n",
    "plt.show()"
   ]
  },
  {
   "cell_type": "markdown",
   "id": "7a941190-805b-4343-8522-2e8986ae3c15",
   "metadata": {},
   "source": [
    "## Modelling the Data"
   ]
  },
  {
   "cell_type": "code",
   "execution_count": 7,
   "id": "269ee770-6729-4efe-8288-3fe6fbe1f04a",
   "metadata": {},
   "outputs": [],
   "source": [
    "def rmsle(y_test, y_preds):\n",
    "    return cp.sqrt(mean_squared_log_error(y_test, y_preds))\n",
    "\n",
    "def show_scores(models, X_train, X_test, y_train, y_test):\n",
    "    model_scores={}\n",
    "    for name, model in models.items():\n",
    "        model.fit(X_train, y_train)\n",
    "        preds = model.predict(X_test)\n",
    "        scores = {\n",
    "                  'MAE': mean_absolute_error(y_test, preds),\n",
    "                  'RMSLE': rmsle(y_test, preds),\n",
    "                  'MSE': mean_squared_error(y_test, preds),\n",
    "                  'R^2': r2_score(y_test, preds)}\n",
    "        model_scores[name] = scores\n",
    "    return model_scores"
   ]
  },
  {
   "cell_type": "code",
   "execution_count": 8,
   "id": "15d1bae4-183e-47fc-8496-ba4f2f9bf293",
   "metadata": {},
   "outputs": [
    {
     "data": {
      "text/html": [
       "<div><style>\n",
       ".dataframe > thead > tr,\n",
       ".dataframe > tbody > tr {\n",
       "  text-align: right;\n",
       "  white-space: pre-wrap;\n",
       "}\n",
       "</style>\n",
       "<small>shape: (5, 14)</small><table border=\"1\" class=\"dataframe\"><thead><tr><th></th><th>ItinID</th><th>MktID</th><th>MktCoupons</th><th>Quarter</th><th>Origin</th><th>OriginWac</th><th>Dest</th><th>DestWac</th><th>Miles</th><th>ContiguousUSA</th><th>NumTicketsOrdered</th><th>AirlineCompany</th><th>PricePerTicket</th></tr><tr><td>i64</td><td>i64</td><td>i64</td><td>i64</td><td>i64</td><td>str</td><td>i64</td><td>str</td><td>i64</td><td>f64</td><td>i64</td><td>f64</td><td>str</td><td>f64</td></tr></thead><tbody><tr><td>0</td><td>20181767585</td><td>2018176758501</td><td>1</td><td>1</td><td>&quot;PHL&quot;</td><td>23</td><td>&quot;LAX&quot;</td><td>91</td><td>2402.0</td><td>2</td><td>1.0</td><td>&quot;AA&quot;</td><td>672.87</td></tr><tr><td>1</td><td>20181767586</td><td>2018176758601</td><td>1</td><td>1</td><td>&quot;PHL&quot;</td><td>23</td><td>&quot;LAX&quot;</td><td>91</td><td>2402.0</td><td>2</td><td>1.0</td><td>&quot;AA&quot;</td><td>367.68</td></tr><tr><td>2</td><td>20181767587</td><td>2018176758701</td><td>1</td><td>1</td><td>&quot;PHL&quot;</td><td>23</td><td>&quot;LAX&quot;</td><td>91</td><td>2402.0</td><td>2</td><td>1.0</td><td>&quot;AA&quot;</td><td>417.94</td></tr><tr><td>3</td><td>20181767636</td><td>2018176763601</td><td>1</td><td>1</td><td>&quot;PHL&quot;</td><td>23</td><td>&quot;LAX&quot;</td><td>91</td><td>2402.0</td><td>2</td><td>1.0</td><td>&quot;AA&quot;</td><td>247.1</td></tr><tr><td>4</td><td>20181767637</td><td>2018176763701</td><td>1</td><td>1</td><td>&quot;PHL&quot;</td><td>23</td><td>&quot;LAX&quot;</td><td>91</td><td>2402.0</td><td>2</td><td>1.0</td><td>&quot;AA&quot;</td><td>276.35</td></tr></tbody></table></div>"
      ],
      "text/plain": [
       "shape: (5, 14)\n",
       "┌─────┬─────────────┬───────────────┬────────────┬───┬───────────────┬───────────────────┬────────────────┬────────────────┐\n",
       "│     ┆ ItinID      ┆ MktID         ┆ MktCoupons ┆ … ┆ ContiguousUSA ┆ NumTicketsOrdered ┆ AirlineCompany ┆ PricePerTicket │\n",
       "│ --- ┆ ---         ┆ ---           ┆ ---        ┆   ┆ ---           ┆ ---               ┆ ---            ┆ ---            │\n",
       "│ i64 ┆ i64         ┆ i64           ┆ i64        ┆   ┆ i64           ┆ f64               ┆ str            ┆ f64            │\n",
       "╞═════╪═════════════╪═══════════════╪════════════╪═══╪═══════════════╪═══════════════════╪════════════════╪════════════════╡\n",
       "│ 0   ┆ 20181767585 ┆ 2018176758501 ┆ 1          ┆ … ┆ 2             ┆ 1.0               ┆ AA             ┆ 672.87         │\n",
       "│ 1   ┆ 20181767586 ┆ 2018176758601 ┆ 1          ┆ … ┆ 2             ┆ 1.0               ┆ AA             ┆ 367.68         │\n",
       "│ 2   ┆ 20181767587 ┆ 2018176758701 ┆ 1          ┆ … ┆ 2             ┆ 1.0               ┆ AA             ┆ 417.94         │\n",
       "│ 3   ┆ 20181767636 ┆ 2018176763601 ┆ 1          ┆ … ┆ 2             ┆ 1.0               ┆ AA             ┆ 247.1          │\n",
       "│ 4   ┆ 20181767637 ┆ 2018176763701 ┆ 1          ┆ … ┆ 2             ┆ 1.0               ┆ AA             ┆ 276.35         │\n",
       "└─────┴─────────────┴───────────────┴────────────┴───┴───────────────┴───────────────────┴────────────────┴────────────────┘"
      ]
     },
     "execution_count": 8,
     "metadata": {},
     "output_type": "execute_result"
    }
   ],
   "source": [
    "df.head()"
   ]
  },
  {
   "cell_type": "code",
   "execution_count": 9,
   "id": "06788b3c-161d-48e7-935c-577ce74c4897",
   "metadata": {},
   "outputs": [
    {
     "data": {
      "text/html": [
       "<div>\n",
       "<style scoped>\n",
       "    .dataframe tbody tr th:only-of-type {\n",
       "        vertical-align: middle;\n",
       "    }\n",
       "\n",
       "    .dataframe tbody tr th {\n",
       "        vertical-align: top;\n",
       "    }\n",
       "\n",
       "    .dataframe thead th {\n",
       "        text-align: right;\n",
       "    }\n",
       "</style>\n",
       "<table border=\"1\" class=\"dataframe\">\n",
       "  <thead>\n",
       "    <tr style=\"text-align: right;\">\n",
       "      <th></th>\n",
       "      <th>Unnamed: 0</th>\n",
       "      <th>ItinID</th>\n",
       "      <th>MktID</th>\n",
       "      <th>MktCoupons</th>\n",
       "      <th>Quarter</th>\n",
       "      <th>Origin</th>\n",
       "      <th>OriginWac</th>\n",
       "      <th>Dest</th>\n",
       "      <th>DestWac</th>\n",
       "      <th>Miles</th>\n",
       "      <th>ContiguousUSA</th>\n",
       "      <th>NumTicketsOrdered</th>\n",
       "      <th>AirlineCompany</th>\n",
       "    </tr>\n",
       "  </thead>\n",
       "  <tbody>\n",
       "    <tr>\n",
       "      <th>0</th>\n",
       "      <td>0</td>\n",
       "      <td>20181767585</td>\n",
       "      <td>2018176758501</td>\n",
       "      <td>1</td>\n",
       "      <td>1</td>\n",
       "      <td>PHL</td>\n",
       "      <td>23</td>\n",
       "      <td>LAX</td>\n",
       "      <td>91</td>\n",
       "      <td>2402.0</td>\n",
       "      <td>2</td>\n",
       "      <td>1.0</td>\n",
       "      <td>AA</td>\n",
       "    </tr>\n",
       "    <tr>\n",
       "      <th>1</th>\n",
       "      <td>1</td>\n",
       "      <td>20181767586</td>\n",
       "      <td>2018176758601</td>\n",
       "      <td>1</td>\n",
       "      <td>1</td>\n",
       "      <td>PHL</td>\n",
       "      <td>23</td>\n",
       "      <td>LAX</td>\n",
       "      <td>91</td>\n",
       "      <td>2402.0</td>\n",
       "      <td>2</td>\n",
       "      <td>1.0</td>\n",
       "      <td>AA</td>\n",
       "    </tr>\n",
       "    <tr>\n",
       "      <th>2</th>\n",
       "      <td>2</td>\n",
       "      <td>20181767587</td>\n",
       "      <td>2018176758701</td>\n",
       "      <td>1</td>\n",
       "      <td>1</td>\n",
       "      <td>PHL</td>\n",
       "      <td>23</td>\n",
       "      <td>LAX</td>\n",
       "      <td>91</td>\n",
       "      <td>2402.0</td>\n",
       "      <td>2</td>\n",
       "      <td>1.0</td>\n",
       "      <td>AA</td>\n",
       "    </tr>\n",
       "    <tr>\n",
       "      <th>3</th>\n",
       "      <td>3</td>\n",
       "      <td>20181767636</td>\n",
       "      <td>2018176763601</td>\n",
       "      <td>1</td>\n",
       "      <td>1</td>\n",
       "      <td>PHL</td>\n",
       "      <td>23</td>\n",
       "      <td>LAX</td>\n",
       "      <td>91</td>\n",
       "      <td>2402.0</td>\n",
       "      <td>2</td>\n",
       "      <td>1.0</td>\n",
       "      <td>AA</td>\n",
       "    </tr>\n",
       "    <tr>\n",
       "      <th>4</th>\n",
       "      <td>4</td>\n",
       "      <td>20181767637</td>\n",
       "      <td>2018176763701</td>\n",
       "      <td>1</td>\n",
       "      <td>1</td>\n",
       "      <td>PHL</td>\n",
       "      <td>23</td>\n",
       "      <td>LAX</td>\n",
       "      <td>91</td>\n",
       "      <td>2402.0</td>\n",
       "      <td>2</td>\n",
       "      <td>1.0</td>\n",
       "      <td>AA</td>\n",
       "    </tr>\n",
       "  </tbody>\n",
       "</table>\n",
       "</div>"
      ],
      "text/plain": [
       "   Unnamed: 0       ItinID          MktID  MktCoupons  Quarter Origin  \\\n",
       "0           0  20181767585  2018176758501           1        1    PHL   \n",
       "1           1  20181767586  2018176758601           1        1    PHL   \n",
       "2           2  20181767587  2018176758701           1        1    PHL   \n",
       "3           3  20181767636  2018176763601           1        1    PHL   \n",
       "4           4  20181767637  2018176763701           1        1    PHL   \n",
       "\n",
       "   OriginWac Dest  DestWac   Miles  ContiguousUSA  NumTicketsOrdered  \\\n",
       "0         23  LAX       91  2402.0              2                1.0   \n",
       "1         23  LAX       91  2402.0              2                1.0   \n",
       "2         23  LAX       91  2402.0              2                1.0   \n",
       "3         23  LAX       91  2402.0              2                1.0   \n",
       "4         23  LAX       91  2402.0              2                1.0   \n",
       "\n",
       "  AirlineCompany  \n",
       "0             AA  \n",
       "1             AA  \n",
       "2             AA  \n",
       "3             AA  \n",
       "4             AA  "
      ]
     },
     "execution_count": 9,
     "metadata": {},
     "output_type": "execute_result"
    }
   ],
   "source": [
    "data = pd.read_csv('flights2018.csv')\n",
    "X = data.drop(['PricePerTicket', 'OriginWac', 'DestWac', 'ContiguousUSA'], axis=1)\n",
    "X.head()"
   ]
  },
  {
   "cell_type": "code",
   "execution_count": 10,
   "id": "ac19d070-4a99-444e-a3eb-d9df5499b383",
   "metadata": {},
   "outputs": [
    {
     "data": {
      "text/plain": [
       "0          672.87\n",
       "1          367.68\n",
       "2          417.94\n",
       "3          247.10\n",
       "4          276.35\n",
       "            ...  \n",
       "9534412    310.10\n",
       "9534413    106.17\n",
       "9534414    161.19\n",
       "9534415    170.87\n",
       "9534416    379.02\n",
       "Name: PricePerTicket, Length: 9534417, dtype: float64"
      ]
     },
     "execution_count": 10,
     "metadata": {},
     "output_type": "execute_result"
    }
   ],
   "source": [
    "y = data['PricePerTicket']\n",
    "y"
   ]
  },
  {
   "cell_type": "code",
   "execution_count": 11,
   "id": "7c13a7c3-c7be-4442-8b76-f3f0e65899c6",
   "metadata": {},
   "outputs": [
    {
     "data": {
      "text/plain": [
       "[Int64,\n",
       " Int64,\n",
       " Int64,\n",
       " Int64,\n",
       " Int64,\n",
       " String,\n",
       " Int64,\n",
       " String,\n",
       " Int64,\n",
       " Float64,\n",
       " Int64,\n",
       " Float64,\n",
       " String,\n",
       " Float64]"
      ]
     },
     "execution_count": 11,
     "metadata": {},
     "output_type": "execute_result"
    }
   ],
   "source": [
    "df.dtypes"
   ]
  },
  {
   "cell_type": "code",
   "execution_count": 12,
   "id": "a99d2f3f-aa38-4090-affa-0a0ea436e9a8",
   "metadata": {},
   "outputs": [
    {
     "data": {
      "text/plain": [
       "<9534417x545 sparse matrix of type '<class 'numpy.float64'>'\n",
       "\twith 123947420 stored elements in Compressed Sparse Row format>"
      ]
     },
     "execution_count": 12,
     "metadata": {},
     "output_type": "execute_result"
    }
   ],
   "source": [
    "worded_features = ['Origin', 'Dest', 'AirlineCompany']\n",
    "one_hot = OneHotEncoder()\n",
    "transformer = ColumnTransformer([('one_hot',\n",
    "                                   one_hot,\n",
    "                                   worded_features)],\n",
    "                                   remainder='passthrough')\n",
    "transformed_X = transformer.fit_transform(X)\n",
    "transformed_X"
   ]
  },
  {
   "cell_type": "code",
   "execution_count": 22,
   "id": "1801ef22-f710-4b55-a66e-4c7519f9441f",
   "metadata": {},
   "outputs": [],
   "source": [
    "models = {\n",
    "          'XGBoost': XGBRegressor(),\n",
    "          'LGB': LGBMRegressor()\n",
    "}"
   ]
  },
  {
   "cell_type": "code",
   "execution_count": 20,
   "id": "36667c15-b98b-4206-8671-100e7405d5a9",
   "metadata": {},
   "outputs": [
    {
     "name": "stdout",
     "output_type": "stream",
     "text": [
      "[LightGBM] [Info] Auto-choosing row-wise multi-threading, the overhead of testing was 0.142812 seconds.\n",
      "You can set `force_row_wise=true` to remove the overhead.\n",
      "And if memory is not enough, you can set `force_col_wise=true`.\n",
      "[LightGBM] [Info] Total Bins 2139\n",
      "[LightGBM] [Info] Number of data points in the train set: 7627533, number of used features: 500\n",
      "[LightGBM] [Info] Start training from score 232.462302\n"
     ]
    },
    {
     "name": "stderr",
     "output_type": "stream",
     "text": [
      "C:\\Users\\dever\\Documents\\flight-advisor\\env\\lib\\site-packages\\sklearn\\utils\\validation.py:2739: UserWarning: X does not have valid feature names, but LGBMRegressor was fitted with feature names\n",
      "  warnings.warn(\n"
     ]
    },
    {
     "name": "stdout",
     "output_type": "stream",
     "text": [
      "XGBoost\n",
      "MAE:  84.2310451054731\n",
      "RMSLE:  0.4604966504297507\n",
      "MSE:  14024.684359135263\n",
      "R^2:  0.3166525708318051\n",
      "\n",
      "\n",
      "LGB\n",
      "MAE:  84.88903205610731\n",
      "RMSLE:  0.46419710921883545\n",
      "MSE:  14198.202675421797\n",
      "R^2:  0.30819795664501515\n",
      "\n",
      "\n"
     ]
    }
   ],
   "source": [
    "cp.random.seed(42)\n",
    "X_train, X_test, y_train, y_test = train_test_split(transformed_X, y, test_size=0.20)\n",
    "\n",
    "scores = show_scores(models, X_train, X_test, y_train, y_test)\n",
    "mae_scores={}\n",
    "for name in scores:\n",
    "    print(name)\n",
    "    print('MAE: ', scores[name]['MAE'])\n",
    "    print('RMSLE: ', scores[name]['RMSLE'])\n",
    "    print('MSE: ', scores[name]['MSE'])\n",
    "    print('R^2: ', scores[name]['R^2'])\n",
    "    print('\\n')\n",
    "    mae_scores[name] = scores[name]['MAE']"
   ]
  },
  {
   "cell_type": "code",
   "execution_count": null,
   "id": "be63ede1-67b0-4788-9f19-f6013bbef0a1",
   "metadata": {},
   "outputs": [],
   "source": []
  }
 ],
 "metadata": {
  "kernelspec": {
   "display_name": "Python 3 (ipykernel)",
   "language": "python",
   "name": "python3"
  },
  "language_info": {
   "codemirror_mode": {
    "name": "ipython",
    "version": 3
   },
   "file_extension": ".py",
   "mimetype": "text/x-python",
   "name": "python",
   "nbconvert_exporter": "python",
   "pygments_lexer": "ipython3",
   "version": "3.9.23"
  }
 },
 "nbformat": 4,
 "nbformat_minor": 5
}
