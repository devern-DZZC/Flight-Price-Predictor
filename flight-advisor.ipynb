{
 "cells": [
  {
   "cell_type": "code",
   "execution_count": 2,
   "id": "9416f57a-dc41-4f32-99c9-e276f5c56ceb",
   "metadata": {},
   "outputs": [],
   "source": [
    "import polars as pl\n",
    "import cupy as cp"
   ]
  },
  {
   "cell_type": "code",
   "execution_count": 35,
   "id": "9cc5ab16-4c1c-4585-b239-2fb47a39c63b",
   "metadata": {},
   "outputs": [
    {
     "data": {
      "text/html": [
       "<div><style>\n",
       ".dataframe > thead > tr,\n",
       ".dataframe > tbody > tr {\n",
       "  text-align: right;\n",
       "  white-space: pre-wrap;\n",
       "}\n",
       "</style>\n",
       "<small>shape: (5, 18)</small><table border=\"1\" class=\"dataframe\"><thead><tr><th>ITIN_ID</th><th>MKT_ID</th><th>MARKET_COUPONS</th><th>YEAR</th><th>QUARTER</th><th>ORIGIN</th><th>ORIGIN_WAC</th><th>DEST</th><th>DEST_WAC</th><th>WAC_GROUP</th><th>TK_CARRIER_CHANGE</th><th>OP_CARRIER_CHANGE</th><th>REPORTING_CARRIER</th><th>BULK_FARE</th><th>PASSENGERS</th><th>MARKET_FARE</th><th>MARKET_DISTANCE</th><th>MARKET_MILES_FLOWN</th></tr><tr><td>i64</td><td>i64</td><td>i64</td><td>i64</td><td>i64</td><td>str</td><td>i64</td><td>str</td><td>i64</td><td>str</td><td>f64</td><td>f64</td><td>str</td><td>f64</td><td>f64</td><td>f64</td><td>f64</td><td>f64</td></tr></thead><tbody><tr><td>20241514</td><td>2024151401</td><td>1</td><td>2024</td><td>1</td><td>&quot;EYW&quot;</td><td>33</td><td>&quot;FLL&quot;</td><td>33</td><td>&quot;33:33&quot;</td><td>0.0</td><td>0.0</td><td>&quot;3M&quot;</td><td>0.0</td><td>1.0</td><td>0.0</td><td>145.0</td><td>145.0</td></tr><tr><td>20241515</td><td>2024151501</td><td>1</td><td>2024</td><td>1</td><td>&quot;EYW&quot;</td><td>33</td><td>&quot;FLL&quot;</td><td>33</td><td>&quot;33:33&quot;</td><td>0.0</td><td>0.0</td><td>&quot;3M&quot;</td><td>0.0</td><td>1.0</td><td>69.0</td><td>145.0</td><td>145.0</td></tr><tr><td>20241516</td><td>2024151601</td><td>1</td><td>2024</td><td>1</td><td>&quot;EYW&quot;</td><td>33</td><td>&quot;FLL&quot;</td><td>33</td><td>&quot;33:33&quot;</td><td>0.0</td><td>0.0</td><td>&quot;3M&quot;</td><td>0.0</td><td>2.0</td><td>77.0</td><td>145.0</td><td>145.0</td></tr><tr><td>20241517</td><td>2024151701</td><td>1</td><td>2024</td><td>1</td><td>&quot;EYW&quot;</td><td>33</td><td>&quot;FLL&quot;</td><td>33</td><td>&quot;33:33&quot;</td><td>0.0</td><td>0.0</td><td>&quot;3M&quot;</td><td>0.0</td><td>3.0</td><td>81.0</td><td>145.0</td><td>145.0</td></tr><tr><td>20241518</td><td>2024151801</td><td>1</td><td>2024</td><td>1</td><td>&quot;EYW&quot;</td><td>33</td><td>&quot;FLL&quot;</td><td>33</td><td>&quot;33:33&quot;</td><td>0.0</td><td>0.0</td><td>&quot;3M&quot;</td><td>0.0</td><td>6.0</td><td>89.0</td><td>145.0</td><td>145.0</td></tr></tbody></table></div>"
      ],
      "text/plain": [
       "shape: (5, 18)\n",
       "┌──────────┬────────────┬────────────────┬──────┬───┬────────────┬─────────────┬─────────────────┬────────────────────┐\n",
       "│ ITIN_ID  ┆ MKT_ID     ┆ MARKET_COUPONS ┆ YEAR ┆ … ┆ PASSENGERS ┆ MARKET_FARE ┆ MARKET_DISTANCE ┆ MARKET_MILES_FLOWN │\n",
       "│ ---      ┆ ---        ┆ ---            ┆ ---  ┆   ┆ ---        ┆ ---         ┆ ---             ┆ ---                │\n",
       "│ i64      ┆ i64        ┆ i64            ┆ i64  ┆   ┆ f64        ┆ f64         ┆ f64             ┆ f64                │\n",
       "╞══════════╪════════════╪════════════════╪══════╪═══╪════════════╪═════════════╪═════════════════╪════════════════════╡\n",
       "│ 20241514 ┆ 2024151401 ┆ 1              ┆ 2024 ┆ … ┆ 1.0        ┆ 0.0         ┆ 145.0           ┆ 145.0              │\n",
       "│ 20241515 ┆ 2024151501 ┆ 1              ┆ 2024 ┆ … ┆ 1.0        ┆ 69.0        ┆ 145.0           ┆ 145.0              │\n",
       "│ 20241516 ┆ 2024151601 ┆ 1              ┆ 2024 ┆ … ┆ 2.0        ┆ 77.0        ┆ 145.0           ┆ 145.0              │\n",
       "│ 20241517 ┆ 2024151701 ┆ 1              ┆ 2024 ┆ … ┆ 3.0        ┆ 81.0        ┆ 145.0           ┆ 145.0              │\n",
       "│ 20241518 ┆ 2024151801 ┆ 1              ┆ 2024 ┆ … ┆ 6.0        ┆ 89.0        ┆ 145.0           ┆ 145.0              │\n",
       "└──────────┴────────────┴────────────────┴──────┴───┴────────────┴─────────────┴─────────────────┴────────────────────┘"
      ]
     },
     "execution_count": 35,
     "metadata": {},
     "output_type": "execute_result"
    }
   ],
   "source": [
    "df = pl.read_parquet('flights2024.parquet')\n",
    "df.head()"
   ]
  },
  {
   "cell_type": "code",
   "execution_count": 32,
   "id": "6e7edcac-2785-42c7-8a64-e036fcf8cb2e",
   "metadata": {},
   "outputs": [
    {
     "data": {
      "text/plain": [
       "[Int64,\n",
       " Int64,\n",
       " Int64,\n",
       " Int64,\n",
       " Int64,\n",
       " String,\n",
       " Int64,\n",
       " String,\n",
       " Int64,\n",
       " String,\n",
       " Float64,\n",
       " Float64,\n",
       " String,\n",
       " Float64,\n",
       " Float64,\n",
       " Float64,\n",
       " Float64,\n",
       " Float64]"
      ]
     },
     "execution_count": 32,
     "metadata": {},
     "output_type": "execute_result"
    }
   ],
   "source": [
    "df.dtypes"
   ]
  },
  {
   "cell_type": "code",
   "execution_count": 33,
   "id": "7f92dd92-7440-4551-9dd6-c32a3e581a5c",
   "metadata": {},
   "outputs": [
    {
     "name": "stdout",
     "output_type": "stream",
     "text": [
      "Number of rows:  32766855\n"
     ]
    }
   ],
   "source": [
    "rows = len(df)\n",
    "print('Number of rows: ', rows)"
   ]
  },
  {
   "cell_type": "code",
   "execution_count": 34,
   "id": "fcc00017-08e0-4d2e-9966-884528dfbca5",
   "metadata": {},
   "outputs": [
    {
     "name": "stdout",
     "output_type": "stream",
     "text": [
      "shape: (1, 18)\n",
      "┌─────────┬────────┬────────────────┬──────┬───┬────────────┬─────────────┬─────────────────┬────────────────────┐\n",
      "│ ITIN_ID ┆ MKT_ID ┆ MARKET_COUPONS ┆ YEAR ┆ … ┆ PASSENGERS ┆ MARKET_FARE ┆ MARKET_DISTANCE ┆ MARKET_MILES_FLOWN │\n",
      "│ ---     ┆ ---    ┆ ---            ┆ ---  ┆   ┆ ---        ┆ ---         ┆ ---             ┆ ---                │\n",
      "│ u32     ┆ u32    ┆ u32            ┆ u32  ┆   ┆ u32        ┆ u32         ┆ u32             ┆ u32                │\n",
      "╞═════════╪════════╪════════════════╪══════╪═══╪════════════╪═════════════╪═════════════════╪════════════════════╡\n",
      "│ 0       ┆ 0      ┆ 0              ┆ 0    ┆ … ┆ 0          ┆ 0           ┆ 0               ┆ 0                  │\n",
      "└─────────┴────────┴────────────────┴──────┴───┴────────────┴─────────────┴─────────────────┴────────────────────┘\n"
     ]
    }
   ],
   "source": [
    "print(df.null_count())"
   ]
  },
  {
   "cell_type": "code",
   "execution_count": null,
   "id": "46f9ea83-e75c-4c62-b974-515c9251c056",
   "metadata": {},
   "outputs": [],
   "source": []
  }
 ],
 "metadata": {
  "kernelspec": {
   "display_name": "Python 3 (ipykernel)",
   "language": "python",
   "name": "python3"
  },
  "language_info": {
   "codemirror_mode": {
    "name": "ipython",
    "version": 3
   },
   "file_extension": ".py",
   "mimetype": "text/x-python",
   "name": "python",
   "nbconvert_exporter": "python",
   "pygments_lexer": "ipython3",
   "version": "3.9.23"
  }
 },
 "nbformat": 4,
 "nbformat_minor": 5
}
